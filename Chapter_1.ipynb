{
 "cells": [
  {
   "cell_type": "code",
   "execution_count": 108,
   "metadata": {},
   "outputs": [],
   "source": [
    "import random\n",
    "suits = [\"Clubs\", \"Spades\", \"Hearts\", \"Diamonds\"]\n",
    "faces = [\"Jack\", \"Queen\", \"King\", \"Ace\"]\n",
    "numbered = [2, 3, 4, 5, 6, 7, 8, 9, 10]"
   ]
  },
  {
   "cell_type": "code",
   "execution_count": 8,
   "metadata": {},
   "outputs": [
    {
     "data": {
      "text/plain": [
       "['Clubs', 'Spades', 'Hearts', 'Diamonds']"
      ]
     },
     "execution_count": 8,
     "metadata": {},
     "output_type": "execute_result"
    }
   ],
   "source": [
    "suits"
   ]
  },
  {
   "cell_type": "code",
   "execution_count": 9,
   "metadata": {},
   "outputs": [
    {
     "data": {
      "text/plain": [
       "'Hearts'"
      ]
     },
     "execution_count": 9,
     "metadata": {},
     "output_type": "execute_result"
    }
   ],
   "source": [
    "suits[2]"
   ]
  },
  {
   "cell_type": "code",
   "execution_count": 10,
   "metadata": {},
   "outputs": [
    {
     "data": {
      "text/plain": [
       "'Clubs'"
      ]
     },
     "execution_count": 10,
     "metadata": {},
     "output_type": "execute_result"
    }
   ],
   "source": [
    "suits[0]"
   ]
  },
  {
   "cell_type": "code",
   "execution_count": 39,
   "metadata": {},
   "outputs": [],
   "source": [
    "def draw(x):\n",
    "    the_suit = random.choice(suits)\n",
    "    the_card = random.choice(faces + numbered)\n",
    "    print(faces + numbered)\n",
    "    print(type(suits))\n",
    "    print(type(faces))\n",
    "    print(type(numbered))\n",
    "    print(x)\n",
    "    return the_card, \"of\", the_suit\n",
    "    \n"
   ]
  },
  {
   "cell_type": "code",
   "execution_count": 40,
   "metadata": {},
   "outputs": [
    {
     "name": "stdout",
     "output_type": "stream",
     "text": [
      "['Jack', 'Queen', 'King', 'Ace', 2, 3, 4, 5, 6, 7, 8, 9]\n",
      "<class 'tuple'>\n",
      "<class 'list'>\n",
      "<class 'list'>\n",
      "5\n"
     ]
    },
    {
     "data": {
      "text/plain": [
       "(5, 'of', 'Clubs')"
      ]
     },
     "execution_count": 40,
     "metadata": {},
     "output_type": "execute_result"
    }
   ],
   "source": [
    "draw(_)"
   ]
  },
  {
   "cell_type": "code",
   "execution_count": 12,
   "metadata": {},
   "outputs": [
    {
     "name": "stdout",
     "output_type": "stream",
     "text": [
      "('Ace', 'of', 'Clubs')\n"
     ]
    }
   ],
   "source": [
    "print(draw())"
   ]
  },
  {
   "cell_type": "code",
   "execution_count": 12,
   "metadata": {},
   "outputs": [
    {
     "name": "stdout",
     "output_type": "stream",
     "text": [
      "['Jack', 'Queen', 'King', 'Ace', 2, 3, 4, 5, 6, 7, 8, 9]\n",
      "<class 'list'>\n",
      "<class 'list'>\n",
      "<class 'list'>\n"
     ]
    },
    {
     "data": {
      "text/plain": [
       "(8, 'of', 'Clubs')"
      ]
     },
     "execution_count": 12,
     "metadata": {},
     "output_type": "execute_result"
    }
   ],
   "source": [
    "draw()"
   ]
  },
  {
   "cell_type": "code",
   "execution_count": 23,
   "metadata": {},
   "outputs": [
    {
     "name": "stdout",
     "output_type": "stream",
     "text": [
      "5\n",
      "(7, 'of', 'Hearts')\n",
      "(7, 'of', 'Clubs')\n",
      "(5, 'of', 'Hearts')\n",
      "(7, 'of', 'Hearts')\n",
      "('Ace', 'of', 'Spades')\n"
     ]
    }
   ],
   "source": [
    "print(_)\n",
    "for _ in range(5):\n",
    "    print(draw())"
   ]
  },
  {
   "cell_type": "code",
   "execution_count": 25,
   "metadata": {},
   "outputs": [
    {
     "name": "stdout",
     "output_type": "stream",
     "text": [
      "8\n",
      "0\n",
      "('Ace', 'of', 'Spades')\n",
      "1\n",
      "('Ace', 'of', 'Spades')\n",
      "2\n",
      "('Jack', 'of', 'Spades')\n",
      "3\n",
      "('Jack', 'of', 'Diamonds')\n",
      "4\n",
      "(9, 'of', 'Diamonds')\n",
      "5\n",
      "('King', 'of', 'Spades')\n"
     ]
    }
   ],
   "source": [
    "_ = 8\n",
    "print(_)\n",
    "for _ in range(6):\n",
    "   print(_) \n",
    "   print(draw())\n"
   ]
  },
  {
   "cell_type": "code",
   "execution_count": 26,
   "metadata": {},
   "outputs": [
    {
     "name": "stdout",
     "output_type": "stream",
     "text": [
      "5\n"
     ]
    }
   ],
   "source": [
    "print(_)"
   ]
  },
  {
   "cell_type": "code",
   "execution_count": 109,
   "metadata": {},
   "outputs": [],
   "source": [
    "deck = set()"
   ]
  },
  {
   "cell_type": "code",
   "execution_count": 71,
   "metadata": {},
   "outputs": [],
   "source": [
    "def carter(locs, b, c, d):\n",
    "    # Extracting just the names of each location\n",
    "    # location_names = list(a.keys())\n",
    "    # Printing the names of each location\n",
    "    for name, details in locs.items():\n",
    "        lat = details[\"lat\"]\n",
    "        lon = details[\"lon\"]\n",
    "        des = details[\"description\"]\n",
    "        print(f\"Name: {name}, Latitude: {lat}, Longitude: {lon}, Description: {des}\")\n",
    "    \n",
    "    #figure how to create list of lats\n",
    "    \n",
    "    # Printing the names of each location\n",
    "    # for name in location_names:\n",
    "    #     print(name)\n",
    "\n",
    "    # print(a)\n",
    "\n",
    "    return "
   ]
  },
  {
   "cell_type": "code",
   "execution_count": 46,
   "metadata": {},
   "outputs": [
    {
     "name": "stdout",
     "output_type": "stream",
     "text": [
      "5\n",
      "10\n"
     ]
    }
   ],
   "source": [
    "carter(5, 10, 9, 8)"
   ]
  },
  {
   "cell_type": "code",
   "execution_count": 62,
   "metadata": {},
   "outputs": [
    {
     "name": "stdout",
     "output_type": "stream",
     "text": [
      "Downtown Austin:\n",
      "Latitude: 30.2711\n",
      "Longitude: -97.742\n",
      "Description: Austin's central business district and cultural center.\n"
     ]
    }
   ],
   "source": [
    "locations_austin = {\n",
    "    \"downtown\": {\n",
    "        \"lat\": 30.2711,\n",
    "        \"lon\": -97.742,\n",
    "        \"description\": \"Austin's central business district and cultural center.\"\n",
    "    },\n",
    "    \"south_congress\": {\n",
    "        \"lat\": 30.2475,\n",
    "        \"lon\": -97.7509,\n",
    "        \"description\": \"A vibrant area known for its eclectic shops, restaurants, and live music.\"\n",
    "    },\n",
    "    \"zilker_park\": {\n",
    "        \"lat\": 30.2687,\n",
    "        \"lon\": -97.7687,\n",
    "        \"description\": \"Home to Austin City Limits Music Festival and Barton Springs Pool.\"\n",
    "    },\n",
    "    \"the_domain\": {\n",
    "        \"lat\": 30.4021,\n",
    "        \"lon\": -97.7254,\n",
    "        \"description\": \"A shopping and entertainment district in north Austin.\"\n",
    "    },\n",
    "    \"rainey_street\": {\n",
    "        \"lat\": 30.2594,\n",
    "        \"lon\": -97.7394,\n",
    "        \"description\": \"Known for its historic bungalows turned into bars and food trucks.\"\n",
    "    }\n",
    "}\n",
    "\n",
    "# Accessing information for downtown Austin\n",
    "print(\"Downtown Austin:\")\n",
    "print(\"Latitude:\", locations_austin[\"downtown\"][\"lat\"])\n",
    "print(\"Longitude:\", locations_austin[\"downtown\"][\"lon\"])\n",
    "print(\"Description:\", locations_austin[\"downtown\"][\"description\"])\n"
   ]
  },
  {
   "cell_type": "code",
   "execution_count": 72,
   "metadata": {},
   "outputs": [
    {
     "name": "stdout",
     "output_type": "stream",
     "text": [
      "Name: downtown, Latitude: 30.2711, Longitude: -97.742, Description: Austin's central business district and cultural center.\n",
      "Name: south_congress, Latitude: 30.2475, Longitude: -97.7509, Description: A vibrant area known for its eclectic shops, restaurants, and live music.\n",
      "Name: zilker_park, Latitude: 30.2687, Longitude: -97.7687, Description: Home to Austin City Limits Music Festival and Barton Springs Pool.\n",
      "Name: the_domain, Latitude: 30.4021, Longitude: -97.7254, Description: A shopping and entertainment district in north Austin.\n",
      "Name: rainey_street, Latitude: 30.2594, Longitude: -97.7394, Description: Known for its historic bungalows turned into bars and food trucks.\n"
     ]
    }
   ],
   "source": [
    "carter(locations_austin, 0, 0, 0)"
   ]
  },
  {
   "cell_type": "code",
   "execution_count": 73,
   "metadata": {},
   "outputs": [
    {
     "data": {
      "text/plain": [
       "set"
      ]
     },
     "execution_count": 73,
     "metadata": {},
     "output_type": "execute_result"
    }
   ],
   "source": [
    "type(deck)"
   ]
  },
  {
   "cell_type": "code",
   "execution_count": 74,
   "metadata": {},
   "outputs": [
    {
     "data": {
      "text/plain": [
       "dict"
      ]
     },
     "execution_count": 74,
     "metadata": {},
     "output_type": "execute_result"
    }
   ],
   "source": [
    "type(locations_austin)"
   ]
  },
  {
   "cell_type": "code",
   "execution_count": 75,
   "metadata": {},
   "outputs": [
    {
     "data": {
      "text/plain": [
       "0"
      ]
     },
     "execution_count": 75,
     "metadata": {},
     "output_type": "execute_result"
    }
   ],
   "source": [
    "len(deck)"
   ]
  },
  {
   "cell_type": "code",
   "execution_count": 76,
   "metadata": {},
   "outputs": [
    {
     "data": {
      "text/plain": [
       "['__and__',\n",
       " '__class__',\n",
       " '__class_getitem__',\n",
       " '__contains__',\n",
       " '__delattr__',\n",
       " '__dir__',\n",
       " '__doc__',\n",
       " '__eq__',\n",
       " '__format__',\n",
       " '__ge__',\n",
       " '__getattribute__',\n",
       " '__getstate__',\n",
       " '__gt__',\n",
       " '__hash__',\n",
       " '__iand__',\n",
       " '__init__',\n",
       " '__init_subclass__',\n",
       " '__ior__',\n",
       " '__isub__',\n",
       " '__iter__',\n",
       " '__ixor__',\n",
       " '__le__',\n",
       " '__len__',\n",
       " '__lt__',\n",
       " '__ne__',\n",
       " '__new__',\n",
       " '__or__',\n",
       " '__rand__',\n",
       " '__reduce__',\n",
       " '__reduce_ex__',\n",
       " '__repr__',\n",
       " '__ror__',\n",
       " '__rsub__',\n",
       " '__rxor__',\n",
       " '__setattr__',\n",
       " '__sizeof__',\n",
       " '__str__',\n",
       " '__sub__',\n",
       " '__subclasshook__',\n",
       " '__xor__',\n",
       " 'add',\n",
       " 'clear',\n",
       " 'copy',\n",
       " 'difference',\n",
       " 'difference_update',\n",
       " 'discard',\n",
       " 'intersection',\n",
       " 'intersection_update',\n",
       " 'isdisjoint',\n",
       " 'issubset',\n",
       " 'issuperset',\n",
       " 'pop',\n",
       " 'remove',\n",
       " 'symmetric_difference',\n",
       " 'symmetric_difference_update',\n",
       " 'union',\n",
       " 'update']"
      ]
     },
     "execution_count": 76,
     "metadata": {},
     "output_type": "execute_result"
    }
   ],
   "source": [
    "dir(deck)"
   ]
  },
  {
   "cell_type": "code",
   "execution_count": 77,
   "metadata": {},
   "outputs": [
    {
     "name": "stdout",
     "output_type": "stream",
     "text": [
      "['__and__', '__class__', '__class_getitem__', '__contains__', '__delattr__', '__dir__', '__doc__', '__eq__', '__format__', '__ge__', '__getattribute__', '__getstate__', '__gt__', '__hash__', '__iand__', '__init__', '__init_subclass__', '__ior__', '__isub__', '__iter__', '__ixor__', '__le__', '__len__', '__lt__', '__ne__', '__new__', '__or__', '__rand__', '__reduce__', '__reduce_ex__', '__repr__', '__ror__', '__rsub__', '__rxor__', '__setattr__', '__sizeof__', '__str__', '__sub__', '__subclasshook__', '__xor__', 'add', 'clear', 'copy', 'difference', 'difference_update', 'discard', 'intersection', 'intersection_update', 'isdisjoint', 'issubset', 'issuperset', 'pop', 'remove', 'symmetric_difference', 'symmetric_difference_update', 'union', 'update']\n"
     ]
    }
   ],
   "source": [
    "print(dir(deck))"
   ]
  },
  {
   "cell_type": "code",
   "execution_count": 79,
   "metadata": {},
   "outputs": [
    {
     "data": {
      "text/plain": [
       "'__class__'"
      ]
     },
     "execution_count": 79,
     "metadata": {},
     "output_type": "execute_result"
    }
   ],
   "source": [
    "dir(deck)[1]"
   ]
  },
  {
   "cell_type": "code",
   "execution_count": 80,
   "metadata": {},
   "outputs": [
    {
     "name": "stdout",
     "output_type": "stream",
     "text": [
      "Help on built-in function add:\n",
      "\n",
      "add(...) method of builtins.set instance\n",
      "    Add an element to a set.\n",
      "\n",
      "    This has no effect if the element is already present.\n",
      "\n"
     ]
    }
   ],
   "source": [
    "help(deck.add)"
   ]
  },
  {
   "cell_type": "code",
   "execution_count": 81,
   "metadata": {},
   "outputs": [
    {
     "name": "stdout",
     "output_type": "stream",
     "text": [
      "Help on built-in function intersection:\n",
      "\n",
      "intersection(...) method of builtins.set instance\n",
      "    Return the intersection of two sets as a new set.\n",
      "\n",
      "    (i.e. all elements that are in both sets.)\n",
      "\n"
     ]
    }
   ],
   "source": [
    "help(deck.intersection)"
   ]
  },
  {
   "cell_type": "code",
   "execution_count": 128,
   "metadata": {},
   "outputs": [
    {
     "name": "stdout",
     "output_type": "stream",
     "text": [
      "('Jack', 'of', 'Clubs')\n",
      "('Queen', 'of', 'Clubs')\n",
      "('King', 'of', 'Clubs')\n",
      "('Ace', 'of', 'Clubs')\n",
      "(2, 'of', 'Clubs')\n",
      "(3, 'of', 'Clubs')\n",
      "(4, 'of', 'Clubs')\n",
      "(5, 'of', 'Clubs')\n",
      "(6, 'of', 'Clubs')\n",
      "(7, 'of', 'Clubs')\n",
      "(8, 'of', 'Clubs')\n",
      "(9, 'of', 'Clubs')\n",
      "(10, 'of', 'Clubs')\n",
      "('Jack', 'of', 'Spades')\n",
      "('Queen', 'of', 'Spades')\n",
      "('King', 'of', 'Spades')\n",
      "('Ace', 'of', 'Spades')\n",
      "(2, 'of', 'Spades')\n",
      "(3, 'of', 'Spades')\n",
      "(4, 'of', 'Spades')\n",
      "(5, 'of', 'Spades')\n",
      "(6, 'of', 'Spades')\n",
      "(7, 'of', 'Spades')\n",
      "(8, 'of', 'Spades')\n",
      "(9, 'of', 'Spades')\n",
      "(10, 'of', 'Spades')\n",
      "('Jack', 'of', 'Hearts')\n",
      "('Queen', 'of', 'Hearts')\n",
      "('King', 'of', 'Hearts')\n",
      "('Ace', 'of', 'Hearts')\n",
      "(2, 'of', 'Hearts')\n",
      "(3, 'of', 'Hearts')\n",
      "(4, 'of', 'Hearts')\n",
      "(5, 'of', 'Hearts')\n",
      "(6, 'of', 'Hearts')\n",
      "(7, 'of', 'Hearts')\n",
      "(8, 'of', 'Hearts')\n",
      "(9, 'of', 'Hearts')\n",
      "(10, 'of', 'Hearts')\n",
      "('Jack', 'of', 'Diamonds')\n",
      "('Queen', 'of', 'Diamonds')\n",
      "('King', 'of', 'Diamonds')\n",
      "('Ace', 'of', 'Diamonds')\n",
      "(2, 'of', 'Diamonds')\n",
      "(3, 'of', 'Diamonds')\n",
      "(4, 'of', 'Diamonds')\n",
      "(5, 'of', 'Diamonds')\n",
      "(6, 'of', 'Diamonds')\n",
      "(7, 'of', 'Diamonds')\n",
      "(8, 'of', 'Diamonds')\n",
      "(9, 'of', 'Diamonds')\n",
      "(10, 'of', 'Diamonds')\n"
     ]
    }
   ],
   "source": [
    "for s in suits:\n",
    "    for card in faces + numbered:\n",
    "        cardname = card, \"of\", s\n",
    "        deck.add(cardname)\n",
    "        print(cardname)"
   ]
  },
  {
   "cell_type": "code",
   "execution_count": 129,
   "metadata": {},
   "outputs": [
    {
     "data": {
      "text/plain": [
       "52"
      ]
     },
     "execution_count": 129,
     "metadata": {},
     "output_type": "execute_result"
    }
   ],
   "source": [
    "len(deck)"
   ]
  },
  {
   "cell_type": "code",
   "execution_count": 113,
   "metadata": {},
   "outputs": [
    {
     "name": "stdout",
     "output_type": "stream",
     "text": [
      "Help on method choice in module random:\n",
      "\n",
      "choice(seq) method of random.Random instance\n",
      "    Choose a random element from a non-empty sequence.\n",
      "\n"
     ]
    }
   ],
   "source": [
    "help(random.choice)"
   ]
  },
  {
   "cell_type": "code",
   "execution_count": 119,
   "metadata": {},
   "outputs": [
    {
     "name": "stdout",
     "output_type": "stream",
     "text": [
      "('Queen', 'of', 'Spades')\n",
      "('Ace', 'of', 'Spades')\n",
      "('King', 'of', 'Clubs')\n",
      "(9, 'of', 'Spades')\n",
      "(4, 'of', 'Hearts')\n",
      "(7, 'of', 'Diamonds')\n",
      "('Queen', 'of', 'Spades')\n",
      "(8, 'of', 'Clubs')\n",
      "(2, 'of', 'Hearts')\n",
      "(7, 'of', 'Spades')\n",
      "(4, 'of', 'Diamonds')\n",
      "(5, 'of', 'Diamonds')\n",
      "(7, 'of', 'Spades')\n",
      "('King', 'of', 'Spades')\n",
      "(5, 'of', 'Hearts')\n",
      "(2, 'of', 'Spades')\n",
      "('King', 'of', 'Spades')\n",
      "(10, 'of', 'Hearts')\n",
      "('Jack', 'of', 'Spades')\n",
      "(3, 'of', 'Hearts')\n"
     ]
    }
   ],
   "source": [
    "for _ in range(20):\n",
    "    card = random.choice(list(deck))\n",
    "    print(card)"
   ]
  },
  {
   "cell_type": "code",
   "execution_count": 120,
   "metadata": {},
   "outputs": [],
   "source": [
    "def draw():\n",
    "    card = random.choice(list(deck))\n",
    "    deck.remove(card)\n",
    "    return card"
   ]
  },
  {
   "cell_type": "code",
   "execution_count": 137,
   "metadata": {},
   "outputs": [
    {
     "name": "stdout",
     "output_type": "stream",
     "text": [
      "(9, 'of', 'Clubs')\n",
      "(5, 'of', 'Spades')\n",
      "('Queen', 'of', 'Hearts')\n",
      "(2, 'of', 'Spades')\n",
      "(3, 'of', 'Spades')\n",
      "(7, 'of', 'Hearts')\n",
      "(4, 'of', 'Spades')\n",
      "(8, 'of', 'Hearts')\n",
      "(6, 'of', 'Clubs')\n",
      "(10, 'of', 'Diamonds')\n",
      "(2, 'of', 'Diamonds')\n",
      "('Jack', 'of', 'Diamonds')\n",
      "('Ace', 'of', 'Diamonds')\n",
      "(9, 'of', 'Hearts')\n",
      "(6, 'of', 'Hearts')\n",
      "('King', 'of', 'Clubs')\n",
      "(2, 'of', 'Clubs')\n",
      "('Ace', 'of', 'Spades')\n",
      "(6, 'of', 'Spades')\n",
      "(10, 'of', 'Hearts')\n"
     ]
    }
   ],
   "source": [
    "for _ in range(20):\n",
    "    print(draw())"
   ]
  },
  {
   "cell_type": "code",
   "execution_count": 136,
   "metadata": {},
   "outputs": [
    {
     "data": {
      "text/plain": [
       "52"
      ]
     },
     "execution_count": 136,
     "metadata": {},
     "output_type": "execute_result"
    }
   ],
   "source": [
    "len(deck)"
   ]
  },
  {
   "cell_type": "code",
   "execution_count": 135,
   "metadata": {},
   "outputs": [],
   "source": [
    "for s in suits:\n",
    "    for card in faces + numbered:\n",
    "        cardname = card, \"of\", s\n",
    "        deck.add(cardname)"
   ]
  },
  {
   "cell_type": "code",
   "execution_count": 141,
   "metadata": {},
   "outputs": [
    {
     "name": "stdout",
     "output_type": "stream",
     "text": [
      "Card not in deck\n"
     ]
    }
   ],
   "source": [
    "card = (\"9\", \"of\", \"Clubs\")\n",
    "card in deck\n",
    "if card in deck:\n",
    "    print(\"That card is in the deck\")\n",
    "else:   \n",
    "    print(\"Card not in deck\")"
   ]
  },
  {
   "cell_type": "code",
   "execution_count": 142,
   "metadata": {},
   "outputs": [
    {
     "data": {
      "text/plain": [
       "32"
      ]
     },
     "execution_count": 142,
     "metadata": {},
     "output_type": "execute_result"
    }
   ],
   "source": [
    "len(deck)"
   ]
  },
  {
   "cell_type": "code",
   "execution_count": null,
   "metadata": {},
   "outputs": [],
   "source": []
  }
 ],
 "metadata": {
  "kernelspec": {
   "display_name": "Python 3",
   "language": "python",
   "name": "python3"
  },
  "language_info": {
   "codemirror_mode": {
    "name": "ipython",
    "version": 3
   },
   "file_extension": ".py",
   "mimetype": "text/x-python",
   "name": "python",
   "nbconvert_exporter": "python",
   "pygments_lexer": "ipython3",
   "version": "3.12.3"
  }
 },
 "nbformat": 4,
 "nbformat_minor": 2
}
